{
 "cells": [
  {
   "metadata": {
    "ExecuteTime": {
     "end_time": "2025-01-09T16:53:47.088474Z",
     "start_time": "2025-01-09T16:53:46.988838Z"
    }
   },
   "cell_type": "code",
   "source": "val words = \"The quick brown fox jumps over the lazy dog\".split(\" \")",
   "outputs": [],
   "execution_count": 1
  },
  {
   "metadata": {},
   "cell_type": "markdown",
   "source": [
    "# Sequence vs Iterable\n",
    "[Kotlin Docs](https://kotlinlang.org/docs/sequences.html#sequence-processing-example)"
   ]
  },
  {
   "metadata": {},
   "cell_type": "markdown",
   "source": [
    "## Iterable\n",
    "![](https://kotlinlang.org/docs/images/list-processing.png)\n",
    "\n",
    "- whole collection iterated over like in code\n",
    "- `map()`, `filter()` is immediately called\n",
    "- takes 23 processing steps"
   ]
  },
  {
   "metadata": {
    "ExecuteTime": {
     "end_time": "2025-01-09T16:53:47.402312Z",
     "start_time": "2025-01-09T16:53:47.101205Z"
    }
   },
   "cell_type": "code",
   "source": [
    "val lengthOfWords = words\n",
    "    .filter {\n",
    "        println(\"filter: $it\")\n",
    "        it.length > 3\n",
    "    }\n",
    "    .map {\n",
    "        println(\"length: ${it.length}\")\n",
    "        it.length\n",
    "    }\n",
    "    .take(4)\n",
    "println(\"Length of first 4 words longer than 3 chars\")\n",
    "println(lengthOfWords)\n"
   ],
   "outputs": [
    {
     "name": "stdout",
     "output_type": "stream",
     "text": [
      "filter: The\n",
      "filter: quick\n",
      "filter: brown\n",
      "filter: fox\n",
      "filter: jumps\n",
      "filter: over\n",
      "filter: the\n",
      "filter: lazy\n",
      "filter: dog\n",
      "length: 5\n",
      "length: 5\n",
      "length: 5\n",
      "length: 4\n",
      "length: 4\n",
      "Length of first 4 words longer than 3 chars\n",
      "[5, 5, 5, 4]\n"
     ]
    }
   ],
   "execution_count": 2
  },
  {
   "metadata": {},
   "cell_type": "markdown",
   "source": [
    "## Sequence\n",
    "![](https://kotlinlang.org/docs/images/sequence-processing.png)\n",
    "- sequence is lazily evaluated\n",
    "    - `map()`, `filter()` called when result set is building\n",
    "- takes 18 processing steps\n"
   ]
  },
  {
   "metadata": {
    "ExecuteTime": {
     "end_time": "2025-01-09T16:53:47.578754Z",
     "start_time": "2025-01-09T16:53:47.424946Z"
    }
   },
   "cell_type": "code",
   "source": [
    "val lengthOfWordsSeq = words.asSequence()\n",
    "    .filter {\n",
    "        println(\"filter: $it\")\n",
    "        it.length > 3\n",
    "    }\n",
    "    .map {\n",
    "        println(\"length: ${it.length}\")\n",
    "        it.length\n",
    "    }\n",
    "    .take(4)\n",
    "println(\"Length of first 4 words longer than 3 chars\")\n",
    "println(lengthOfWordsSeq.toList())"
   ],
   "outputs": [
    {
     "name": "stdout",
     "output_type": "stream",
     "text": [
      "Length of first 4 words longer than 3 chars\n",
      "filter: The\n",
      "filter: quick\n",
      "length: 5\n",
      "filter: brown\n",
      "length: 5\n",
      "filter: fox\n",
      "filter: jumps\n",
      "length: 5\n",
      "filter: over\n",
      "length: 4\n",
      "[5, 5, 5, 4]\n"
     ]
    }
   ],
   "execution_count": 3
  }
 ],
 "metadata": {
  "kernelspec": {
   "display_name": "Kotlin",
   "language": "kotlin",
   "name": "kotlin"
  },
  "language_info": {
   "name": "kotlin",
   "version": "1.9.23",
   "mimetype": "text/x-kotlin",
   "file_extension": ".kt",
   "pygments_lexer": "kotlin",
   "codemirror_mode": "text/x-kotlin",
   "nbconvert_exporter": ""
  }
 },
 "nbformat": 4,
 "nbformat_minor": 0
}
